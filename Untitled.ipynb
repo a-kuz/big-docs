{
 "cells": [
  {
   "cell_type": "code",
   "execution_count": 15,
   "id": "0c9c33ee-7dac-4ebd-99e0-f6c6100208d0",
   "metadata": {},
   "outputs": [
    {
     "name": "stdout",
     "output_type": "stream",
     "text": [
      "144\n",
      "ÍRM\f",
      "mtjÒ\u0016ô00\u0018ËG02202°002øL`\u0019L²I\täP\u0018\f",
      "R\n"
     ]
    }
   ],
   "source": [
    "import base64\n",
    "\n",
    "# Ваш токен Agora\n",
    "token = \"007eJxTYEh+0DC5X5W38eq8vM1JT4QYal6VsV39fcE8WGMp/7SgG2sUGAxSjQ1NLI3TkiwMjE0Sk0yTLAwsLFISTVIMDc1STYwMbXRq0hb0MDAYy0cwMjIwMrAwMDKA+ExgkhlMsoBJCYbkUB=\"\n",
    "print(len(token))\n",
    "# Декодируем токен из base64\n",
    "decoded_bytes = base64.b64decode(token)\n",
    "\n",
    "# Преобразуем байты в строку для анализа\n",
    "decoded_str = decoded_bytes.decode('latin1')\n",
    "\n",
    "# Выводим декодированную строку\n",
    "print(decoded_str)\n",
    "\n",
    "# Пытаемся найти временные метки\n",
    "for word in decoded_str.split():\n",
    "    if word.isdigit():\n",
    "        print(\"Possible timestamp:\", word)"
   ]
  },
  {
   "cell_type": "code",
   "execution_count": null,
   "id": "bba27d23-8be5-456c-ac2d-36c9446a6c76",
   "metadata": {},
   "outputs": [],
   "source": []
  },
  {
   "cell_type": "code",
   "execution_count": null,
   "id": "f857008f-3a61-4d1f-9513-e329e712bea1",
   "metadata": {},
   "outputs": [],
   "source": []
  }
 ],
 "metadata": {
  "kernelspec": {
   "display_name": "Python 3 (ipykernel)",
   "language": "python",
   "name": "python3"
  },
  "language_info": {
   "codemirror_mode": {
    "name": "ipython",
    "version": 3
   },
   "file_extension": ".py",
   "mimetype": "text/x-python",
   "name": "python",
   "nbconvert_exporter": "python",
   "pygments_lexer": "ipython3",
   "version": "3.12.3"
  }
 },
 "nbformat": 4,
 "nbformat_minor": 5
}
